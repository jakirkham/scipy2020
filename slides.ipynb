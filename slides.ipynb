{
 "cells": [
  {
   "cell_type": "markdown",
   "metadata": {
    "slideshow": {
     "slide_type": "slide"
    }
   },
   "source": [
    "# GPU Packaging for the Community\n",
    "\n",
    "John Kirkham ([@jakirkham]( https://github.com/jakirkham ))"
   ]
  },
  {
   "cell_type": "markdown",
   "metadata": {
    "slideshow": {
     "slide_type": "slide"
    }
   },
   "source": [
    "> Python is an experiment in how much freedom programmers need.\n",
    "> Too much freedom and nobody can read another's code;\n",
    "> too little and expressiveness is endangered.     \n",
    ">\n",
    "> -- <cite>Guido van Rossum</cite>\n",
    "\n",
    "<br>\n",
    "\n",
    "> Python is executable pseudocode.\n",
    ">\n",
    "> -- <cite>Bruce Eckel</cite>"
   ]
  },
  {
   "cell_type": "markdown",
   "metadata": {
    "slideshow": {
     "slide_type": "slide"
    }
   },
   "source": [
    "![xkcd - Flying with Python]( images/xkcd_python.png )\n",
    "\n",
    " https://xkcd.com/353/"
   ]
  },
  {
   "cell_type": "markdown",
   "metadata": {
    "slideshow": {
     "slide_type": "slide"
    }
   },
   "source": [
    "# Building the Scientific Ecosystem\n",
    "\n",
    "\n",
    "| Netlib                         | SciPy                      | NumPy                      |\n",
    "|:------------------------------:|:--------------------------:|:--------------------------:|\n",
    "| ![Netlib]( images/netlib.gif ) |![SciPy]( images/scipy.png )|![NumPy]( images/numpy.png )|"
   ]
  },
  {
   "cell_type": "markdown",
   "metadata": {
    "slideshow": {
     "slide_type": "slide"
    }
   },
   "source": [
    "# Extending the Scientific Ecosystem\n",
    "\n",
    "![Python Ecosystem]( images/python_ecosystem.png )\n",
    "\n",
    "https://speakerdeck.com/jakevdp/pythons-data-science-stack-jsm-2016"
   ]
  },
  {
   "cell_type": "markdown",
   "metadata": {
    "slideshow": {
     "slide_type": "slide"
    }
   },
   "source": [
    "# Improving Access\n",
    "\n",
    "<br>\n",
    "\n",
    "![Conda]( images/conda.svg )\n",
    "\n",
    "<br>\n",
    "\n",
    "![conda-forge]( images/conda-forge.png )"
   ]
  },
  {
   "cell_type": "markdown",
   "metadata": {
    "slideshow": {
     "slide_type": "slide"
    }
   },
   "source": [
    "# How does this relate to GPU packaging?"
   ]
  },
  {
   "cell_type": "markdown",
   "metadata": {
    "slideshow": {
     "slide_type": "fragment"
    }
   },
   "source": [
    "The story is the same!"
   ]
  },
  {
   "cell_type": "markdown",
   "metadata": {
    "slideshow": {
     "slide_type": "slide"
    }
   },
   "source": [
    "# How did we do this?"
   ]
  },
  {
   "cell_type": "markdown",
   "metadata": {
    "slideshow": {
     "slide_type": "slide"
    }
   },
   "source": [
    "# Establishing Standards\n",
    "\n",
    "![conda-forge CUDA standards]( images/conda_cuda_stds.png )"
   ]
  },
  {
   "cell_type": "markdown",
   "metadata": {
    "slideshow": {
     "slide_type": "slide"
    }
   },
   "source": [
    "# Used NVIDIA's Docker images\n",
    "\n",
    "![NVIDIA Docker]( images/nvidia-docker.png )"
   ]
  },
  {
   "cell_type": "markdown",
   "metadata": {
    "slideshow": {
     "slide_type": "slide"
    }
   },
   "source": [
    "# conda-forge CUDA images\n",
    "\n",
    "![conda-forge CUDA images]( images/conda_docker_cuda.png )"
   ]
  },
  {
   "cell_type": "markdown",
   "metadata": {
    "slideshow": {
     "slide_type": "slide"
    }
   },
   "source": [
    "# Bridging between Conda and NVCC\n",
    "\n",
    "![conda NVCC shim]( images/conda_nvcc_shim.png )"
   ]
  }
 ],
 "metadata": {
  "celltoolbar": "Slideshow",
  "kernelspec": {
   "display_name": "Python 3",
   "language": "python",
   "name": "python3"
  },
  "language_info": {
   "codemirror_mode": {
    "name": "ipython",
    "version": 3
   },
   "file_extension": ".py",
   "mimetype": "text/x-python",
   "name": "python",
   "nbconvert_exporter": "python",
   "pygments_lexer": "ipython3",
   "version": "3.7.6"
  }
 },
 "nbformat": 4,
 "nbformat_minor": 4
}
